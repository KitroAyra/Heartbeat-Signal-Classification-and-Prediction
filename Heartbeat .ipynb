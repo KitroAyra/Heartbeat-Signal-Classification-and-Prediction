{
 "cells": [
  {
   "cell_type": "code",
   "execution_count": 1,
   "metadata": {},
   "outputs": [],
   "source": [
    "import pandas as pd\n",
    "import numpy as np"
   ]
  },
  {
   "cell_type": "code",
   "execution_count": 2,
   "metadata": {},
   "outputs": [
    {
     "data": {
      "text/html": [
       "<div>\n",
       "<style scoped>\n",
       "    .dataframe tbody tr th:only-of-type {\n",
       "        vertical-align: middle;\n",
       "    }\n",
       "\n",
       "    .dataframe tbody tr th {\n",
       "        vertical-align: top;\n",
       "    }\n",
       "\n",
       "    .dataframe thead th {\n",
       "        text-align: right;\n",
       "    }\n",
       "</style>\n",
       "<table border=\"1\" class=\"dataframe\">\n",
       "  <thead>\n",
       "    <tr style=\"text-align: right;\">\n",
       "      <th></th>\n",
       "      <th>heartbeat_signals</th>\n",
       "      <th>label</th>\n",
       "    </tr>\n",
       "    <tr>\n",
       "      <th>id</th>\n",
       "      <th></th>\n",
       "      <th></th>\n",
       "    </tr>\n",
       "  </thead>\n",
       "  <tbody>\n",
       "    <tr>\n",
       "      <td>0</td>\n",
       "      <td>0.9912297987616655,0.9435330436439665,0.764677...</td>\n",
       "      <td>0.0</td>\n",
       "    </tr>\n",
       "    <tr>\n",
       "      <td>1</td>\n",
       "      <td>0.9714822034884503,0.9289687459588268,0.572932...</td>\n",
       "      <td>0.0</td>\n",
       "    </tr>\n",
       "    <tr>\n",
       "      <td>2</td>\n",
       "      <td>1.0,0.9591487564065292,0.7013782792997189,0.23...</td>\n",
       "      <td>2.0</td>\n",
       "    </tr>\n",
       "    <tr>\n",
       "      <td>3</td>\n",
       "      <td>0.9757952826275774,0.9340884687738161,0.659636...</td>\n",
       "      <td>0.0</td>\n",
       "    </tr>\n",
       "    <tr>\n",
       "      <td>4</td>\n",
       "      <td>0.0,0.055816398940721094,0.26129357194994196,0...</td>\n",
       "      <td>2.0</td>\n",
       "    </tr>\n",
       "    <tr>\n",
       "      <td>...</td>\n",
       "      <td>...</td>\n",
       "      <td>...</td>\n",
       "    </tr>\n",
       "    <tr>\n",
       "      <td>99995</td>\n",
       "      <td>1.0,0.677705342021188,0.22239242747868546,0.25...</td>\n",
       "      <td>0.0</td>\n",
       "    </tr>\n",
       "    <tr>\n",
       "      <td>99996</td>\n",
       "      <td>0.9268571578157265,0.9063471198026871,0.636993...</td>\n",
       "      <td>2.0</td>\n",
       "    </tr>\n",
       "    <tr>\n",
       "      <td>99997</td>\n",
       "      <td>0.9258351628306013,0.5873839035878395,0.633226...</td>\n",
       "      <td>3.0</td>\n",
       "    </tr>\n",
       "    <tr>\n",
       "      <td>99998</td>\n",
       "      <td>1.0,0.9947621698382489,0.8297017704865509,0.45...</td>\n",
       "      <td>2.0</td>\n",
       "    </tr>\n",
       "    <tr>\n",
       "      <td>99999</td>\n",
       "      <td>0.9259994004527861,0.916476635326053,0.4042900...</td>\n",
       "      <td>0.0</td>\n",
       "    </tr>\n",
       "  </tbody>\n",
       "</table>\n",
       "<p>100000 rows × 2 columns</p>\n",
       "</div>"
      ],
      "text/plain": [
       "                                       heartbeat_signals  label\n",
       "id                                                             \n",
       "0      0.9912297987616655,0.9435330436439665,0.764677...    0.0\n",
       "1      0.9714822034884503,0.9289687459588268,0.572932...    0.0\n",
       "2      1.0,0.9591487564065292,0.7013782792997189,0.23...    2.0\n",
       "3      0.9757952826275774,0.9340884687738161,0.659636...    0.0\n",
       "4      0.0,0.055816398940721094,0.26129357194994196,0...    2.0\n",
       "...                                                  ...    ...\n",
       "99995  1.0,0.677705342021188,0.22239242747868546,0.25...    0.0\n",
       "99996  0.9268571578157265,0.9063471198026871,0.636993...    2.0\n",
       "99997  0.9258351628306013,0.5873839035878395,0.633226...    3.0\n",
       "99998  1.0,0.9947621698382489,0.8297017704865509,0.45...    2.0\n",
       "99999  0.9259994004527861,0.916476635326053,0.4042900...    0.0\n",
       "\n",
       "[100000 rows x 2 columns]"
      ]
     },
     "execution_count": 2,
     "metadata": {},
     "output_type": "execute_result"
    }
   ],
   "source": [
    "# 读入数据\n",
    "data_src = pd.read_csv(\"./data/train.csv\", index_col=0)\n",
    "# 取一部分数据\n",
    "#data_src = data_src[:10000]\n",
    "data_src"
   ]
  },
  {
   "cell_type": "code",
   "execution_count": 3,
   "metadata": {
    "scrolled": true
   },
   "outputs": [],
   "source": [
    "# 分割训练集和测试集\n",
    "from sklearn.model_selection import train_test_split\n",
    "\n",
    "trainData = []\n",
    "trainLabel = []\n",
    "for i in range(data_src.shape[0]):\n",
    "    trainData.append(data_src['heartbeat_signals'][i].split(','))\n",
    "    trainLabel.append(data_src['label'][i])\n",
    "\n",
    "trainData = np.array(trainData).astype(np.float64)\n",
    "trainLabel = np.array(trainLabel).astype(np.float64)\n",
    "\n",
    "trainData,testData,trainLabel,testLabel=train_test_split(trainData,trainLabel,test_size=0.2)"
   ]
  },
  {
   "cell_type": "code",
   "execution_count": 15,
   "metadata": {},
   "outputs": [
    {
     "data": {
      "image/png": "[encoded data removed]",
      "text/plain": [
       "<Figure size 432x288 with 1 Axes>"
      ]
     },
     "metadata": {
      "needs_background": "light"
     },
     "output_type": "display_data"
    }
   ],
   "source": [
    "import matplotlib.pyplot as plt\n",
    "%matplotlib inline\n",
    "\n",
    "# 各类别数量\n",
    "plt.hist(trainLabel, orientation = 'vertical', histtype = 'bar')\n",
    "plt.show()"
   ]
  },
  {
   "cell_type": "code",
   "execution_count": 16,
   "metadata": {},
   "outputs": [
    {
     "data": {
      "image/png": "[encoded data removed]",
      "text/plain": [
       "<Figure size 432x288 with 1 Axes>"
      ]
     },
     "metadata": {
      "needs_background": "light"
     },
     "output_type": "display_data"
    }
   ],
   "source": [
    "from imblearn.over_sampling import SMOTE\n",
    "\n",
    "# 使用 SMOTE 对数据进行上采样以解决类别不平衡问题\n",
    "smote = SMOTE(random_state=0, n_jobs=-1)\n",
    "trainData, trainLabel = smote.fit_resample(trainData, trainLabel)\n",
    "\n",
    "# SMOTE处理后的类别数量\n",
    "plt.hist(trainLabel, orientation = 'vertical', histtype = 'bar')\n",
    "plt.show()"
   ]
  },
  {
   "cell_type": "code",
   "execution_count": 4,
   "metadata": {},
   "outputs": [],
   "source": [
    "# 计算分类准确率，和预测差值\n",
    "def calcDiff(predLabel,testLabel):\n",
    "    diff = 0\n",
    "    score = 0\n",
    "    samples = predLabel.shape[0]\n",
    "    for i in range(samples):\n",
    "        pvec = predLabel[i]\n",
    "        if np.isscalar(predLabel[i]):\n",
    "            pvec = [0,0,0,0]\n",
    "            pvec[int(predLabel[i])] = 1\n",
    "        tvec = testLabel[i]\n",
    "        if np.isscalar(testLabel[i]):\n",
    "            tvec = [0,0,0,0]\n",
    "            tvec[int(testLabel[i])] = 1\n",
    "        diff = diff + sum(abs(np.array(pvec)-np.array(tvec)))\n",
    "        if np.argmax(pvec) == np.argmax(tvec):\n",
    "            score = score + 1\n",
    "    return [score/samples, diff]"
   ]
  },
  {
   "cell_type": "code",
   "execution_count": 5,
   "metadata": {},
   "outputs": [
    {
     "name": "stdout",
     "output_type": "stream",
     "text": [
      "训练集得分： [0.9955375, 714]\n",
      "测试集得分： [0.98495, 602]\n"
     ]
    }
   ],
   "source": [
    "# 多层感知机\n",
    "from sklearn.neural_network import MLPClassifier\n",
    "\n",
    "# 训练\n",
    "model_mlp = MLPClassifier(hidden_layer_sizes=(100,100),max_iter=400)\n",
    "model_mlp.fit(trainData,trainLabel)\n",
    "\n",
    "# 测试\n",
    "predTrain_mlp = model_mlp.predict(trainData)\n",
    "predTest_mlp = model_mlp.predict(testData)\n",
    "print(\"训练集得分：\",calcDiff(predTrain_mlp,trainLabel))\n",
    "print(\"测试集得分：\",calcDiff(predTest_mlp,testLabel))"
   ]
  },
  {
   "cell_type": "code",
   "execution_count": 6,
   "metadata": {
    "scrolled": true
   },
   "outputs": [
    {
     "name": "stdout",
     "output_type": "stream",
     "text": [
      "[LightGBM] [Warning] Unknown parameter: learning\n",
      "[LightGBM] [Warning] Unknown parameter: rate\n",
      "[LightGBM] [Warning] Unknown parameter: lambda_12\n",
      "[1]\tvalid_0's multi_logloss: 0.757781\n",
      "[2]\tvalid_0's multi_logloss: 0.632232\n",
      "[3]\tvalid_0's multi_logloss: 0.5386\n",
      "[4]\tvalid_0's multi_logloss: 0.465743\n",
      "[5]\tvalid_0's multi_logloss: 0.406394\n",
      "[6]\tvalid_0's multi_logloss: 0.358356\n",
      "[7]\tvalid_0's multi_logloss: 0.317963\n",
      "[8]\tvalid_0's multi_logloss: 0.28423\n",
      "[9]\tvalid_0's multi_logloss: 0.255605\n",
      "[10]\tvalid_0's multi_logloss: 0.230665\n",
      "[11]\tvalid_0's multi_logloss: 0.209419\n",
      "[12]\tvalid_0's multi_logloss: 0.19072\n",
      "[13]\tvalid_0's multi_logloss: 0.174941\n",
      "[14]\tvalid_0's multi_logloss: 0.160971\n",
      "[15]\tvalid_0's multi_logloss: 0.148925\n",
      "[16]\tvalid_0's multi_logloss: 0.138543\n",
      "[17]\tvalid_0's multi_logloss: 0.129365\n",
      "[18]\tvalid_0's multi_logloss: 0.121255\n",
      "[19]\tvalid_0's multi_logloss: 0.114165\n",
      "[20]\tvalid_0's multi_logloss: 0.107868\n",
      "[21]\tvalid_0's multi_logloss: 0.102243\n",
      "[22]\tvalid_0's multi_logloss: 0.0972659\n",
      "[23]\tvalid_0's multi_logloss: 0.0925719\n",
      "[24]\tvalid_0's multi_logloss: 0.0882328\n",
      "[25]\tvalid_0's multi_logloss: 0.0846071\n",
      "[26]\tvalid_0's multi_logloss: 0.0811616\n",
      "[27]\tvalid_0's multi_logloss: 0.0782335\n",
      "[28]\tvalid_0's multi_logloss: 0.0755018\n",
      "[29]\tvalid_0's multi_logloss: 0.0729784\n",
      "[30]\tvalid_0's multi_logloss: 0.0708209\n",
      "[31]\tvalid_0's multi_logloss: 0.0685474\n",
      "[32]\tvalid_0's multi_logloss: 0.066586\n",
      "[33]\tvalid_0's multi_logloss: 0.0648947\n",
      "[34]\tvalid_0's multi_logloss: 0.063337\n",
      "[35]\tvalid_0's multi_logloss: 0.0618779\n",
      "[36]\tvalid_0's multi_logloss: 0.06066\n",
      "[37]\tvalid_0's multi_logloss: 0.0594565\n",
      "[38]\tvalid_0's multi_logloss: 0.0584048\n",
      "[39]\tvalid_0's multi_logloss: 0.057237\n",
      "[40]\tvalid_0's multi_logloss: 0.0563647\n",
      "[41]\tvalid_0's multi_logloss: 0.0555446\n",
      "[42]\tvalid_0's multi_logloss: 0.0547026\n",
      "[43]\tvalid_0's multi_logloss: 0.0540403\n",
      "[44]\tvalid_0's multi_logloss: 0.0533861\n",
      "[45]\tvalid_0's multi_logloss: 0.0527398\n",
      "[46]\tvalid_0's multi_logloss: 0.0521082\n",
      "[47]\tvalid_0's multi_logloss: 0.0515487\n",
      "[48]\tvalid_0's multi_logloss: 0.0509698\n",
      "[49]\tvalid_0's multi_logloss: 0.0505429\n",
      "[50]\tvalid_0's multi_logloss: 0.04998\n",
      "训练集得分： [1.0, 1092.8504771867374]\n",
      "测试集得分： [0.98385, 945.2439732303042]\n"
     ]
    }
   ],
   "source": [
    "# LightGBM\n",
    "import lightgbm as lgb\n",
    "\n",
    "params={\n",
    "    \"learning rate\":0.2,\n",
    "    \"boosting\":\"gbdt\",\n",
    "    \"lambda_12\":0.1,\n",
    "    \"max_depth\":-1,\n",
    "    \"num_leaves\":128,\n",
    "    \"bagging_fraction\":0.8,\n",
    "    \"feature_fraction\":0.8,\n",
    "    \"metric\":None,\n",
    "    \"objective\":\"multiclass\",\n",
    "    \"num_class\":4,\n",
    "    \"nthread\":10,\n",
    "    \"verbose\":-1,\n",
    "}\n",
    "\n",
    "# 训练\n",
    "model_lgb=lgb.train(params,\n",
    "               train_set=lgb.Dataset(trainData,label=trainLabel),\n",
    "               valid_sets=lgb.Dataset(testData,label=testLabel),\n",
    "               num_boost_round=50)\n",
    "\n",
    "# 测试\n",
    "predTrain_lgb = model_lgb.predict(trainData,num_iteration=model_lgb.best_iteration)\n",
    "predTest_lgb = model_lgb.predict(testData,num_iteration=model_lgb.best_iteration)\n",
    "print(\"训练集得分：\",calcDiff(predTrain_lgb, trainLabel))\n",
    "print(\"测试集得分：\",calcDiff(predTest_lgb, testLabel))"
   ]
  },
  {
   "cell_type": "code",
   "execution_count": 7,
   "metadata": {},
   "outputs": [
    {
     "name": "stdout",
     "output_type": "stream",
     "text": [
      "训练集得分： [0.9001625, 15974]\n",
      "测试集得分： [0.87945, 4822]\n"
     ]
    }
   ],
   "source": [
    "# 随机森林\n",
    "from sklearn.ensemble import RandomForestRegressor\n",
    "\n",
    "# 训练\n",
    "model_rfr = RandomForestRegressor(random_state=0, n_estimators=200, n_jobs=-1)\n",
    "model_rfr.fit(trainData,trainLabel)\n",
    "\n",
    "# 测试\n",
    "predTrain_rfr = model_rfr.predict(trainData)\n",
    "predTest_rfr = model_rfr.predict(testData)\n",
    "print(\"训练集得分：\",calcDiff(predTrain_rfr,trainLabel))\n",
    "print(\"测试集得分：\",calcDiff(predTest_rfr,testLabel))"
   ]
  },
  {
   "cell_type": "code",
   "execution_count": 8,
   "metadata": {},
   "outputs": [
    {
     "name": "stdout",
     "output_type": "stream",
     "text": [
      "训练集得分： [0.9714875, 4562]\n",
      "测试集得分： [0.96975, 1210]\n"
     ]
    }
   ],
   "source": [
    "# 支持向量机\n",
    "from sklearn import svm\n",
    "\n",
    "# 训练\n",
    "model_svm = svm.SVC(gamma='scale')\n",
    "model_svm.fit(trainData,trainLabel)\n",
    "\n",
    "# 测试\n",
    "predTrain_svm = model_svm.predict(trainData)\n",
    "predTest_svm = model_svm.predict(testData)\n",
    "print(\"训练集得分：\",calcDiff(predTrain_svm,trainLabel))\n",
    "print(\"测试集得分：\",calcDiff(predTest_svm,testLabel))"
   ]
  },
  {
   "cell_type": "code",
   "execution_count": 9,
   "metadata": {
    "scrolled": true
   },
   "outputs": [
    {
     "name": "stdout",
     "output_type": "stream",
     "text": [
      "训练集得分： [1.0, 0]\n",
      "测试集得分： [0.9857, 572]\n"
     ]
    }
   ],
   "source": [
    "# KNN\n",
    "from sklearn.neighbors import KNeighborsClassifier\n",
    "\n",
    "# 训练\n",
    "model_knn = KNeighborsClassifier(n_neighbors=1,  n_jobs=-1)\n",
    "model_knn.fit(trainData,trainLabel)\n",
    "\n",
    "# 测试\n",
    "predTrain_knn = model_knn.predict(trainData)\n",
    "predTest_knn = model_knn.predict(testData)\n",
    "print(\"训练集得分：\",calcDiff(predTrain_knn,trainLabel))\n",
    "print(\"测试集得分：\",calcDiff(predTest_knn,testLabel))"
   ]
  },
  {
   "cell_type": "code",
   "execution_count": 10,
   "metadata": {
    "scrolled": false
   },
   "outputs": [
    {
     "name": "stdout",
     "output_type": "stream",
     "text": [
      "Epoch 1/60\n",
      "625/625 [==============================] - 21s 33ms/step - loss: 0.3772 - acc: 0.9129\n",
      "Epoch 2/60\n",
      "625/625 [==============================] - 20s 33ms/step - loss: 0.1865 - acc: 0.9600\n",
      "Epoch 3/60\n",
      "625/625 [==============================] - 20s 32ms/step - loss: 0.1342 - acc: 0.9708\n",
      "Epoch 4/60\n",
      "625/625 [==============================] - 20s 32ms/step - loss: 0.1007 - acc: 0.9774\n",
      "Epoch 5/60\n",
      "625/625 [==============================] - 20s 32ms/step - loss: 0.0821 - acc: 0.9810\n",
      "Epoch 6/60\n",
      "625/625 [==============================] - 20s 32ms/step - loss: 0.0658 - acc: 0.9839\n",
      "Epoch 7/60\n",
      "625/625 [==============================] - 20s 32ms/step - loss: 0.0537 - acc: 0.9871\n",
      "Epoch 8/60\n",
      "625/625 [==============================] - 20s 32ms/step - loss: 0.0463 - acc: 0.9886\n",
      "Epoch 9/60\n",
      "625/625 [==============================] - 20s 32ms/step - loss: 0.0396 - acc: 0.9899\n",
      "Epoch 10/60\n",
      "625/625 [==============================] - 20s 32ms/step - loss: 0.0342 - acc: 0.9915\n",
      "Epoch 11/60\n",
      "625/625 [==============================] - 20s 32ms/step - loss: 0.0279 - acc: 0.9929\n",
      "Epoch 12/60\n",
      "625/625 [==============================] - 20s 32ms/step - loss: 0.0281 - acc: 0.9928\n",
      "Epoch 13/60\n",
      "625/625 [==============================] - 20s 32ms/step - loss: 0.0246 - acc: 0.9938\n",
      "Epoch 14/60\n",
      "625/625 [==============================] - 20s 32ms/step - loss: 0.0207 - acc: 0.9949\n",
      "Epoch 15/60\n",
      "625/625 [==============================] - 20s 32ms/step - loss: 0.0189 - acc: 0.9954\n",
      "Epoch 16/60\n",
      "625/625 [==============================] - 20s 32ms/step - loss: 0.0158 - acc: 0.9963\n",
      "Epoch 17/60\n",
      "625/625 [==============================] - 20s 32ms/step - loss: 0.0225 - acc: 0.9945\n",
      "Epoch 18/60\n",
      "625/625 [==============================] - 20s 32ms/step - loss: 0.0132 - acc: 0.9969\n",
      "Epoch 19/60\n",
      "625/625 [==============================] - 21s 33ms/step - loss: 0.0163 - acc: 0.9961\n",
      "Epoch 20/60\n",
      "625/625 [==============================] - 21s 33ms/step - loss: 0.0142 - acc: 0.9970\n",
      "Epoch 21/60\n",
      "625/625 [==============================] - 20s 32ms/step - loss: 0.0140 - acc: 0.9966\n",
      "Epoch 22/60\n",
      "625/625 [==============================] - 20s 32ms/step - loss: 0.0130 - acc: 0.9971\n",
      "Epoch 23/60\n",
      "625/625 [==============================] - 20s 32ms/step - loss: 0.0104 - acc: 0.9974\n",
      "Epoch 24/60\n",
      "625/625 [==============================] - 20s 32ms/step - loss: 0.0212 - acc: 0.9954\n",
      "Epoch 25/60\n",
      "625/625 [==============================] - 20s 32ms/step - loss: 0.0076 - acc: 0.9984\n",
      "Epoch 26/60\n",
      "625/625 [==============================] - 20s 32ms/step - loss: 0.0049 - acc: 0.9989\n",
      "Epoch 27/60\n",
      "625/625 [==============================] - 20s 32ms/step - loss: 0.0088 - acc: 0.9977\n",
      "Epoch 28/60\n",
      "625/625 [==============================] - 20s 32ms/step - loss: 0.0163 - acc: 0.9962\n",
      "Epoch 29/60\n",
      "625/625 [==============================] - 20s 32ms/step - loss: 0.0123 - acc: 0.9975\n",
      "Epoch 30/60\n",
      "625/625 [==============================] - 20s 32ms/step - loss: 0.0088 - acc: 0.9981\n",
      "Epoch 31/60\n",
      "625/625 [==============================] - 20s 32ms/step - loss: 0.0163 - acc: 0.9960\n",
      "Epoch 32/60\n",
      "625/625 [==============================] - 20s 32ms/step - loss: 0.0047 - acc: 0.9988\n",
      "Epoch 33/60\n",
      "625/625 [==============================] - 20s 32ms/step - loss: 0.0043 - acc: 0.9992\n",
      "Epoch 34/60\n",
      "625/625 [==============================] - 22s 35ms/step - loss: 0.0065 - acc: 0.9988\n",
      "Epoch 35/60\n",
      "625/625 [==============================] - 21s 34ms/step - loss: 0.0155 - acc: 0.9967\n",
      "Epoch 36/60\n",
      "625/625 [==============================] - 20s 32ms/step - loss: 0.0089 - acc: 0.9981\n",
      "Epoch 37/60\n",
      "625/625 [==============================] - 20s 32ms/step - loss: 0.0064 - acc: 0.9985\n",
      "Epoch 38/60\n",
      "625/625 [==============================] - 20s 32ms/step - loss: 0.0077 - acc: 0.9984\n",
      "Epoch 39/60\n",
      "625/625 [==============================] - 20s 32ms/step - loss: 0.0124 - acc: 0.9973\n",
      "Epoch 40/60\n",
      "625/625 [==============================] - 20s 32ms/step - loss: 0.0063 - acc: 0.9984\n",
      "Epoch 41/60\n",
      "625/625 [==============================] - 20s 32ms/step - loss: 0.0025 - acc: 0.9995\n",
      "Epoch 42/60\n",
      "625/625 [==============================] - 20s 32ms/step - loss: 0.0051 - acc: 0.9988\n",
      "Epoch 43/60\n",
      "625/625 [==============================] - 20s 32ms/step - loss: 0.0115 - acc: 0.9974\n",
      "Epoch 44/60\n",
      "625/625 [==============================] - 20s 32ms/step - loss: 0.0076 - acc: 0.9983\n",
      "Epoch 45/60\n",
      "625/625 [==============================] - 20s 32ms/step - loss: 0.0080 - acc: 0.9981\n",
      "Epoch 46/60\n",
      "625/625 [==============================] - 20s 32ms/step - loss: 0.0081 - acc: 0.9984\n",
      "Epoch 47/60\n",
      "625/625 [==============================] - 20s 32ms/step - loss: 0.0057 - acc: 0.9988\n",
      "Epoch 48/60\n",
      "625/625 [==============================] - 20s 32ms/step - loss: 0.0116 - acc: 0.9976\n",
      "Epoch 49/60\n",
      "625/625 [==============================] - 20s 32ms/step - loss: 0.0064 - acc: 0.9985\n",
      "Epoch 50/60\n",
      "625/625 [==============================] - 20s 32ms/step - loss: 0.0069 - acc: 0.9986\n",
      "Epoch 51/60\n",
      "625/625 [==============================] - 20s 32ms/step - loss: 0.0014 - acc: 0.9997\n",
      "Epoch 52/60\n",
      "625/625 [==============================] - 21s 33ms/step - loss: 0.0098 - acc: 0.9978\n",
      "Epoch 53/60\n",
      "625/625 [==============================] - 20s 33ms/step - loss: 0.0048 - acc: 0.9990\n",
      "Epoch 54/60\n",
      "625/625 [==============================] - 20s 32ms/step - loss: 0.0033 - acc: 0.9993\n",
      "Epoch 55/60\n",
      "625/625 [==============================] - 20s 32ms/step - loss: 0.0031 - acc: 0.9994\n",
      "Epoch 56/60\n",
      "625/625 [==============================] - 20s 32ms/step - loss: 0.0090 - acc: 0.9982\n",
      "Epoch 57/60\n",
      "625/625 [==============================] - 20s 33ms/step - loss: 0.0105 - acc: 0.9979\n",
      "Epoch 58/60\n",
      "625/625 [==============================] - 20s 32ms/step - loss: 0.0044 - acc: 0.9991\n",
      "Epoch 59/60\n",
      "625/625 [==============================] - 20s 32ms/step - loss: 6.8558e-04 - acc: 0.9999\n",
      "Epoch 60/60\n",
      "625/625 [==============================] - 21s 34ms/step - loss: 0.0089 - acc: 0.9983\n",
      "训练集得分： [0.9994625, 115.0027083470396]\n",
      "测试集得分： [0.98935, 425.3747271508993]\n"
     ]
    }
   ],
   "source": [
    "# CNN\n",
    "from keras import Sequential\n",
    "from keras.optimizers import adam_v2\n",
    "from keras.initializers import glorot_normal\n",
    "from keras.layers import Conv1D, LeakyReLU, Flatten, Dense\n",
    "\n",
    "# 构建模型\n",
    "model_cnn = Sequential()\n",
    "model_cnn.add(Conv1D(8, 11, kernel_initializer=glorot_normal(seed=1), input_shape=(205, 1)))\n",
    "model_cnn.add(LeakyReLU(alpha=0.05))\n",
    "model_cnn.add(Conv1D(16, 9, kernel_initializer=glorot_normal(seed=1)))\n",
    "model_cnn.add(LeakyReLU(alpha=0.05))\n",
    "model_cnn.add(Conv1D(32, 5, kernel_initializer=glorot_normal(seed=1)))\n",
    "model_cnn.add(LeakyReLU(alpha=0.05))\n",
    "model_cnn.add(Conv1D(64, 3, kernel_initializer=glorot_normal(seed=1)))\n",
    "model_cnn.add(LeakyReLU(alpha=0.05))\n",
    "model_cnn.add(Flatten())\n",
    "model_cnn.add(Dense(64, kernel_initializer=glorot_normal(seed=1)))\n",
    "model_cnn.add(LeakyReLU(alpha=0.05))\n",
    "model_cnn.add(Dense(4, activation='softmax', kernel_initializer=glorot_normal(seed=1)))\n",
    "adam = adam_v2.Adam()\n",
    "model_cnn.compile(optimizer=adam,\n",
    "              loss='categorical_crossentropy',\n",
    "              metrics=['acc'])\n",
    "\n",
    "# 数据格式转化为keras的输入格式\n",
    "trainLabelVec = (np.arange(4) == trainLabel[:, None]).astype(int) \n",
    "\n",
    "# 训练\n",
    "model_cnn.fit(trainData,trainLabelVec,\n",
    "              batch_size=128, epochs=60,\n",
    "              shuffle=False,\n",
    "              verbose=1)\n",
    "              #class_weight={0:1, 1:8, 2:3, 3:3}) # 为防止类别不平衡指定的类别权重\n",
    "\n",
    "# 测试\n",
    "predTrain_cnn = model_cnn.predict(trainData)\n",
    "predTest_cnn = model_cnn.predict(testData)\n",
    "print(\"训练集得分：\",calcDiff(predTrain_cnn,trainLabel))\n",
    "print(\"测试集得分：\",calcDiff(predTest_cnn,testLabel))"
   ]
  },
  {
   "cell_type": "code",
   "execution_count": 18,
   "metadata": {},
   "outputs": [
    {
     "name": "stdout",
     "output_type": "stream",
     "text": [
      "融合模型 训练集得分： [1.0, 0]\n",
      "融合模型 测试集得分： [0.9911, 356]\n"
     ]
    }
   ],
   "source": [
    "# 融合各模型的预测值，采用简单的投票法\n",
    "def fuseModelPredict(predLabels):\n",
    "    models = len(predLabels)\n",
    "    samples = predLabels[0].shape[0]\n",
    "    \n",
    "    predLabelFuse = []\n",
    "    \n",
    "    for i in range(samples):\n",
    "        pvecFuse = np.array([0,0,0,0])\n",
    "        for m in range(models):\n",
    "            pvec = predLabels[m][i]\n",
    "            if np.isscalar(pvec):\n",
    "                pvec = [0,0,0,0]\n",
    "                pvec[int(predLabels[m][i])] = 1\n",
    "            pvecFuse = pvecFuse + np.array(pvec)\n",
    "            \n",
    "        predC = np.argmax(pvecFuse)\n",
    "        pvecFuse = [0,0,0,0]\n",
    "        pvecFuse[predC] = 1\n",
    "        predLabelFuse.append(pvecFuse)\n",
    "    \n",
    "    return np.array(predLabelFuse)\n",
    "\n",
    "# 模型融合 LGB+KNN+CNN\n",
    "print(\"融合模型 训练集得分：\",calcDiff(fuseModelPredict([predTrain_lgb,predTrain_knn,predTrain_cnn]),trainLabel))\n",
    "print(\"融合模型 测试集得分：\",calcDiff(fuseModelPredict([predTest_lgb,predTest_knn,predTest_cnn]),testLabel))"
   ]
  }
 ],
 "metadata": {
  "kernelspec": {
   "display_name": "Python 3",
   "language": "python",
   "name": "python3"
  },
  "language_info": {
   "codemirror_mode": {
    "name": "ipython",
    "version": 3
   },
   "file_extension": ".py",
   "mimetype": "text/x-python",
   "name": "python",
   "nbconvert_exporter": "python",
   "pygments_lexer": "ipython3",
   "version": "3.7.4"
  }
 },
 "nbformat": 4,
 "nbformat_minor": 2
}
